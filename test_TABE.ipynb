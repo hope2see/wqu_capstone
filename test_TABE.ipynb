{
 "cells": [
  {
   "cell_type": "code",
   "execution_count": 2,
   "metadata": {},
   "outputs": [],
   "source": [
    "\n",
    "# Clone the repository of Time-Series-Library into the project directory. \n",
    "!git clone https://github.com/thuml/Time-Series-Library.git\n"
   ]
  },
  {
   "cell_type": "code",
   "execution_count": null,
   "metadata": {},
   "outputs": [],
   "source": [
    "!pip install -r Time-Series-Library/requirements.txt"
   ]
  },
  {
   "cell_type": "code",
   "execution_count": null,
   "metadata": {},
   "outputs": [],
   "source": [
    "!pip install -r ./requirements.txt"
   ]
  },
  {
   "cell_type": "code",
   "execution_count": null,
   "metadata": {},
   "outputs": [],
   "source": [
    "import sys\n",
    "# Add Time-Series-Library directory to module lookup paths\n",
    "sys.path.append('Time-Series-Library')"
   ]
  },
  {
   "cell_type": "code",
   "execution_count": null,
   "metadata": {},
   "outputs": [],
   "source": [
    "from run import run \n",
    "\n",
    "args_str = \\\n",
    "\"--task_name long_term_forecast \\\n",
    "--is_training 1 \\\n",
    "--model TABE --model_id TABE_v0.2 \\\n",
    "--e_layers 2 --d_layers 1 --factor 3 --enc_in 1 --dec_in 1 --c_out 1 --batch_size 10 \\\n",
    "--seq_len 32 --label_len 32 --pred_len 1 --inverse \\\n",
    "--itr 1 --train_epochs 5 --learning_rate 0.001 --des 'Exp' --loss 'MSE' \\\n",
    "--data TABE --features MS --freq d --root_path ./ --data_path dataset_BTC_r25.csv \"\n",
    "\n",
    "args = args_str.split()\n",
    "\n",
    "run(args)"
   ]
  }
 ],
 "metadata": {
  "kernelspec": {
   "display_name": "tscookbook",
   "language": "python",
   "name": "python3"
  },
  "language_info": {
   "codemirror_mode": {
    "name": "ipython",
    "version": 3
   },
   "file_extension": ".py",
   "mimetype": "text/x-python",
   "name": "python",
   "nbconvert_exporter": "python",
   "pygments_lexer": "ipython3",
   "version": "3.9.13"
  }
 },
 "nbformat": 4,
 "nbformat_minor": 2
}
