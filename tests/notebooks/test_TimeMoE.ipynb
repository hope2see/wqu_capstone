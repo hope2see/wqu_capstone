{
 "cells": [
  {
   "cell_type": "markdown",
   "metadata": {},
   "source": [
    "# Time-MoE\n",
    "\n",
    "https://github.com/Time-MoE/Time-MoE"
   ]
  },
  {
   "cell_type": "code",
   "execution_count": null,
   "metadata": {},
   "outputs": [],
   "source": [
    "\n",
    "!git clone https://github.com/Time-MoE/Time-MoE.git"
   ]
  },
  {
   "cell_type": "code",
   "execution_count": null,
   "metadata": {},
   "outputs": [],
   "source": [
    "%cd ./Time-MoE"
   ]
  },
  {
   "cell_type": "code",
   "execution_count": null,
   "metadata": {},
   "outputs": [],
   "source": [
    "pip install -r requirements.txt"
   ]
  },
  {
   "cell_type": "code",
   "execution_count": null,
   "metadata": {},
   "outputs": [],
   "source": [
    "pip install flash-attn==2.6.3"
   ]
  },
  {
   "cell_type": "markdown",
   "metadata": {},
   "source": [
    "Forecasting Sample (from https://github.com/Time-MoE/Time-MoE)"
   ]
  },
  {
   "cell_type": "code",
   "execution_count": null,
   "metadata": {},
   "outputs": [],
   "source": [
    "import numpy as np\n",
    "import torch\n",
    "from transformers import AutoModelForCausalLM\n",
    "\n",
    "# context_length = 12\n",
    "# seqs = torch.randn(2, context_length)  # tensor shape is [batch_size, context_length]\n",
    "# seqs = np.array([\n",
    "#     1., 1.1, 1.2, 1.1, 1.0, 0.9, 0.8, 0.7, 0.7, 0.8, 0.9, 1., 1.1, 1.2\n",
    "# ])\n",
    "seqs = [\n",
    "    1., 1.1, 1.2, 1.1, 1.0, 0.9, 0.8, 0.7, 0.7, 0.8, 0.9, 1., 1.1, 1.2\n",
    "]\n",
    "prediction_length = 2\n",
    "context_length = len(seqs) - prediction_length \n",
    "seqs = torch.Tensor([seqs[0:context_length]])\n",
    "\n",
    "model = AutoModelForCausalLM.from_pretrained(\n",
    "    'Maple728/TimeMoE-50M',\n",
    "    device_map=\"cpu\",  # use \"cpu\" for CPU inference, and \"cuda\" for GPU inference.\n",
    "    trust_remote_code=True,\n",
    ")\n",
    "\n",
    "# use it when the flash-attn is available\n",
    "# model = AutoModelForCausalLM.from_pretrained('Maple728/TimeMoE-50M', device_map=\"auto\", attn_implementation='flash_attention_2', trust_remote_code=True)\n",
    "\n",
    "# normalize seqs\n",
    "mean, std = seqs.mean(dim=-1, keepdim=True), seqs.std(dim=-1, keepdim=True)\n",
    "normed_seqs = (seqs - mean) / std\n",
    "\n",
    "# forecast\n",
    "# prediction_length = 6\n",
    "output = model.generate(normed_seqs, max_new_tokens=prediction_length)  # shape is [batch_size, 12 + 6]\n",
    "normed_predictions = output[:, -prediction_length:]  # shape is [batch_size, 6]\n",
    "\n",
    "# inverse normalize\n",
    "predictions = normed_predictions * std + mean\n",
    "\n",
    "print(predictions)"
   ]
  },
  {
   "cell_type": "code",
   "execution_count": null,
   "metadata": {},
   "outputs": [],
   "source": [
    "!python run_eval.py -d ../dataset/ETT-small/ETTh1.csv -p 96"
   ]
  },
  {
   "cell_type": "code",
   "execution_count": null,
   "metadata": {},
   "outputs": [],
   "source": []
  }
 ],
 "metadata": {
  "kernelspec": {
   "display_name": "tabe",
   "language": "python",
   "name": "python3"
  },
  "language_info": {
   "codemirror_mode": {
    "name": "ipython",
    "version": 3
   },
   "file_extension": ".py",
   "mimetype": "text/x-python",
   "name": "python",
   "nbconvert_exporter": "python",
   "pygments_lexer": "ipython3",
   "version": "3.10.16"
  }
 },
 "nbformat": 4,
 "nbformat_minor": 2
}
