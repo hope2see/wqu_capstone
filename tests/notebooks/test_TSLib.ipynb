{
 "cells": [
  {
   "cell_type": "markdown",
   "metadata": {},
   "source": [
    "## Time-Series-Library\n",
    "\n",
    "Time-Series-Library is used for this project.  \n",
    "https://github.com/thuml/Time-Series-Library\n",
    "\n",
    "When we find some files needed to be fixed/modified/added, then save the files in Time-Series-Library-patch directory, and override the original files with the patched files."
   ]
  },
  {
   "cell_type": "code",
   "execution_count": 47,
   "metadata": {},
   "outputs": [
    {
     "name": "stdout",
     "output_type": "stream",
     "text": [
      "fatal: destination path 'Time-Series-Library' already exists and is not an empty directory.\n"
     ]
    }
   ],
   "source": [
    "# Clone the repository of Time-Series-Library\n",
    "# !git clone https://github.com/thuml/Time-Series-Library.git\n",
    "\n",
    "# Replace the original files with the patched files\n",
    "# !cp ./Time-Series-Library-patch/run.py Time-Series-Library/"
   ]
  },
  {
   "cell_type": "code",
   "execution_count": 42,
   "metadata": {},
   "outputs": [],
   "source": [
    "!pip install -r Time-Series-Library/requirements.txt"
   ]
  },
  {
   "cell_type": "code",
   "execution_count": 43,
   "metadata": {},
   "outputs": [],
   "source": [
    "import sys\n",
    "\n",
    "# Add Time-Series-Library directory to module lookup paths\n",
    "sys.path.append('Time-Series-Library')"
   ]
  },
  {
   "cell_type": "markdown",
   "metadata": {},
   "source": [
    "## Experiments with various models\n",
    "\n",
    "NOTE:\n",
    " - short-term-forecast works only for M4 dataset! \n",
    " - The experiment with the args below raises an error when testing with some models (TimeMixer, TimesNet, Mamba, ..) "
   ]
  },
  {
   "cell_type": "code",
   "execution_count": null,
   "metadata": {},
   "outputs": [],
   "source": [
    "dataset_path = 'dataset_BTC_r25.csv'\n",
    "\n",
    "# Set command line arguments common for all models\n",
    "cmn_args  = \"--task_name long_term_forecast --features MS --is_training 1 \"\n",
    "cmn_args += \" --e_layers 2 --d_layers 1 --factor 3 --enc_in 1 --dec_in 1 --c_out 1 --d_model 512 --batch_size 16 \"\n",
    "cmn_args += \" --seq_len 32 --label_len 32 --pred_len 1 --inverse \"\n",
    "cmn_args += \" --itr 1 --train_epochs 1 --learning_rate 0.001 --des 'Exp' \"\n",
    "cmn_args += \" --data custom --root_path ./ --data_path \" + dataset_path\n",
    "\n",
    "# Experiment with iTransformer\n",
    "model = \"iTransformer\"\n",
    "args = f\"--model {model} --model_id {model}_BTC_lt \" + cmn_args\n",
    "!python ./Time-Series-Library/run.py $args"
   ]
  },
  {
   "cell_type": "code",
   "execution_count": null,
   "metadata": {},
   "outputs": [],
   "source": [
    "# Experiment with TimeXer\n",
    "model = \"TimeXer\"\n",
    "args = f\"--model {model} --model_id {model}_BTC_lt \" + cmn_args\n",
    "!python ./Time-Series-Library/run.py $args\n"
   ]
  },
  {
   "cell_type": "code",
   "execution_count": null,
   "metadata": {},
   "outputs": [],
   "source": [
    "# Experiment with PatchTST\n",
    "model = \"PatchTST\"\n",
    "args = f\"--model {model} --model_id {model}_BTC_lt \" + cmn_args\n",
    "!python ./Time-Series-Library/run.py $args"
   ]
  },
  {
   "cell_type": "code",
   "execution_count": null,
   "metadata": {},
   "outputs": [],
   "source": [
    "# Experiment with DLinear\n",
    "model = \"DLinear\"\n",
    "args = f\"--model {model} --model_id {model}_BTC_lt \" + cmn_args\n",
    "!python ./Time-Series-Library/run.py $args"
   ]
  },
  {
   "cell_type": "code",
   "execution_count": null,
   "metadata": {},
   "outputs": [],
   "source": []
  }
 ],
 "metadata": {
  "kernelspec": {
   "display_name": "tscookbook",
   "language": "python",
   "name": "python3"
  },
  "language_info": {
   "codemirror_mode": {
    "name": "ipython",
    "version": 3
   },
   "file_extension": ".py",
   "mimetype": "text/x-python",
   "name": "python",
   "nbconvert_exporter": "python",
   "pygments_lexer": "ipython3",
   "version": "3.9.13"
  }
 },
 "nbformat": 4,
 "nbformat_minor": 2
}
