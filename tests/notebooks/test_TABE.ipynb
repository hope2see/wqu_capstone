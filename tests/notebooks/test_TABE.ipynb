{
 "cells": [
  {
   "cell_type": "markdown",
   "metadata": {},
   "source": [
    "## Download TABE"
   ]
  },
  {
   "cell_type": "code",
   "execution_count": null,
   "metadata": {},
   "outputs": [
    {
     "name": "stdout",
     "output_type": "stream",
     "text": [
      "Time-Series-Library already installed\n"
     ]
    }
   ],
   "source": [
    "\n",
    "# Download TABE repository\n",
    "!git clone https://github.com/hope2see/wqu_capstone.git\n",
    "\n",
    "# cd into the root of TABE repository directory \n",
    "%cd wqu_capstone/\n"
   ]
  },
  {
   "cell_type": "markdown",
   "metadata": {},
   "source": [
    " ### Download others, and Install\n",
    " If you are in the root of TABE repository directory, then download other required repository and install required packages like below. "
   ]
  },
  {
   "cell_type": "code",
   "execution_count": null,
   "metadata": {},
   "outputs": [
    {
     "name": "stdout",
     "output_type": "stream",
     "text": [
      "Installing required packages for TABE\n",
      "Requirement already satisfied: yfinance in /Users/cloudj/opt/anaconda3/envs/tscookbook/lib/python3.9/site-packages (from -r ./requirements.txt (line 1)) (0.2.51)\n",
      "Requirement already satisfied: pandas in /Users/cloudj/opt/anaconda3/envs/tscookbook/lib/python3.9/site-packages (from -r ./requirements.txt (line 2)) (2.2.3)\n",
      "Requirement already satisfied: numpy in /Users/cloudj/opt/anaconda3/envs/tscookbook/lib/python3.9/site-packages (from -r ./requirements.txt (line 3)) (1.23.5)\n",
      "Requirement already satisfied: matplotlib in /Users/cloudj/opt/anaconda3/envs/tscookbook/lib/python3.9/site-packages (from -r ./requirements.txt (line 4)) (3.7.0)\n",
      "Requirement already satisfied: torch in /Users/cloudj/opt/anaconda3/envs/tscookbook/lib/python3.9/site-packages (from -r ./requirements.txt (line 5)) (2.0.0)\n",
      "Collecting pyro\n",
      "  Using cached Pyro-3.16.tar.gz (298 kB)\n",
      "  Preparing metadata (setup.py) ... \u001b[?25lerror\n",
      "  \u001b[1;31merror\u001b[0m: \u001b[1msubprocess-exited-with-error\u001b[0m\n",
      "  \n",
      "  \u001b[31m×\u001b[0m \u001b[32mpython setup.py egg_info\u001b[0m did not run successfully.\n",
      "  \u001b[31m│\u001b[0m exit code: \u001b[1;36m1\u001b[0m\n",
      "  \u001b[31m╰─>\u001b[0m \u001b[31m[7 lines of output]\u001b[0m\n",
      "  \u001b[31m   \u001b[0m Traceback (most recent call last):\n",
      "  \u001b[31m   \u001b[0m   File \"<string>\", line 2, in <module>\n",
      "  \u001b[31m   \u001b[0m   File \"<pip-setuptools-caller>\", line 34, in <module>\n",
      "  \u001b[31m   \u001b[0m   File \"/private/var/folders/vy/swc92n890xq1d7g08y98sqwr0000gn/T/pip-install-6yi2o7e6/pyro_35f452a9aa324b17887f737241b4bcd1/setup.py\", line 23\n",
      "  \u001b[31m   \u001b[0m     exec code in constants\n",
      "  \u001b[31m   \u001b[0m          ^\n",
      "  \u001b[31m   \u001b[0m SyntaxError: Missing parentheses in call to 'exec'\n",
      "  \u001b[31m   \u001b[0m \u001b[31m[end of output]\u001b[0m\n",
      "  \n",
      "  \u001b[1;35mnote\u001b[0m: This error originates from a subprocess, and is likely not a problem with pip.\n",
      "\u001b[?25h\u001b[1;31merror\u001b[0m: \u001b[1mmetadata-generation-failed\u001b[0m\n",
      "\n",
      "\u001b[31m×\u001b[0m Encountered error while generating package metadata.\n",
      "\u001b[31m╰─>\u001b[0m See above for output.\n",
      "\n",
      "\u001b[1;35mnote\u001b[0m: This is an issue with the package mentioned above, not pip.\n",
      "\u001b[1;36mhint\u001b[0m: See above for details.\n"
     ]
    }
   ],
   "source": [
    "# You should be at the root of TABE repository directory.\n",
    "\n",
    "# Download Time-Series-Library \n",
    "!git clone https://github.com/thuml/Time-Series-Library.git\n",
    "\n",
    "# Download Time-MoE \n",
    "!git clone https://github.com/Time-MoE/Time-MoE.git\n",
    "\n",
    "# Install requirements for TimeMoE \n",
    "!pip install -r ./Time-MoE/requirements.txt\n",
    "\n",
    "# Install requirements for all the others including Time-Series-Library, CMamba, etc.\n",
    "!pip install -r ./requirements.txt\n"
   ]
  }
 ],
 "metadata": {
  "kernelspec": {
   "display_name": "TSCookbook",
   "language": "python",
   "name": "tscookbook"
  },
  "language_info": {
   "codemirror_mode": {
    "name": "ipython",
    "version": 3
   },
   "file_extension": ".py",
   "mimetype": "text/x-python",
   "name": "python",
   "nbconvert_exporter": "python",
   "pygments_lexer": "ipython3",
   "version": "3.9.13"
  }
 },
 "nbformat": 4,
 "nbformat_minor": 2
}
