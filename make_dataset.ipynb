{
 "cells": [
  {
   "cell_type": "markdown",
   "metadata": {},
   "source": [
    "## Make dataset file of BTC-USD from yfinance"
   ]
  },
  {
   "cell_type": "code",
   "execution_count": null,
   "metadata": {},
   "outputs": [],
   "source": [
    "import yfinance as yf\n",
    "import numpy as np\n",
    "import pandas as pd\n",
    "\n",
    "asset = \"BTC-USD\"\n",
    "\n",
    "# Period of test data (TODO: Change the period)\n",
    "start_date = \"2024-01-01\"\n",
    "end_date = \"2025-01-01\"\n",
    "\n",
    "# Daily data of BTC-USD is used \n",
    "\n",
    "# auto_adjust=True is applied by default. \n",
    "# So,'Close' price is used instead of 'Adj Close'\n",
    "df = yf.download(asset, start=start_date, end=end_date, interval='1d')['Close']\n",
    "df.columns = ['Close']\n",
    "\n",
    "# Features (TODO: Change the features)\n",
    "df[\"Ret\"] = df[\"Close\"].pct_change()\n",
    "df[\"Ret_5\"] = df['Close'].pct_change(periods=5)    \n",
    "df[\"Ret_10\"] = df['Close'].pct_change(periods=10)    \n",
    "df[\"Ret_15\"] = df['Close'].pct_change(periods=15)\n",
    "df[\"Ret_20\"] = df['Close'].pct_change(periods=20)\n",
    "df[\"Ret_25\"] = df['Close'].pct_change(periods=25)\n",
    "df[\"Ret_30\"] = df['Close'].pct_change(periods=30)\n",
    "df[\"Ret_40\"] = df['Close'].pct_change(periods=40)\n",
    "df[\"Ret_50\"] = df['Close'].pct_change(periods=50)    \n",
    "\n",
    "# Target variable (TODO: Change the target variable)\n",
    "df[\"OT\"] = df[\"Ret_25\"].shift(-25)  \n",
    "\n",
    "del df[\"Close\"]\n",
    "df = df.dropna()\n",
    "\n",
    "df.reset_index(inplace=True)\n",
    "df['Date'] = df['Date'].dt.strftime('%Y-%m-%d %H:%M:%S')\n",
    "df.rename(columns={'Date': 'date'}, inplace=True)\n",
    "\n",
    "# Save the dataset as csv file\n",
    "dataset_path = 'dataset_BTC_r25.csv'\n",
    "df.to_csv(path_or_buf=dataset_path, index=False)\n",
    "\n",
    "df.head()\n"
   ]
  }
 ],
 "metadata": {
  "kernelspec": {
   "display_name": "tscookbook",
   "language": "python",
   "name": "python3"
  },
  "language_info": {
   "name": "python",
   "version": "3.9.13"
  }
 },
 "nbformat": 4,
 "nbformat_minor": 2
}
