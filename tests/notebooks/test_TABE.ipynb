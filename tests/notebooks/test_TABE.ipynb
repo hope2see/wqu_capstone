{
 "cells": [
  {
   "cell_type": "markdown",
   "metadata": {},
   "source": [
    "# Quick guide to install & run TABE "
   ]
  },
  {
   "cell_type": "markdown",
   "metadata": {},
   "source": [
    "### Download TABE"
   ]
  },
  {
   "cell_type": "code",
   "execution_count": null,
   "metadata": {},
   "outputs": [],
   "source": [
    "\n",
    "# Download TABE repository\n",
    "!git clone https://github.com/hope2see/TABE.git\n",
    "\n",
    "# cd into the root of TABE repository directory \n",
    "%cd TABE/\n"
   ]
  },
  {
   "cell_type": "markdown",
   "metadata": {},
   "source": [
    " ### Download others, and Install\n",
    " If you are in the root of TABE repository directory, then download other required repository and install required packages like below. "
   ]
  },
  {
   "cell_type": "code",
   "execution_count": null,
   "metadata": {},
   "outputs": [],
   "source": [
    "# You should be at the root of TABE repository directory.\n",
    "\n",
    "# Download Time-Series-Library \n",
    "!git clone https://github.com/thuml/Time-Series-Library.git\n",
    "\n",
    "# Download Time-MoE \n",
    "!git clone https://github.com/Time-MoE/Time-MoE.git\n",
    "\n",
    "# Install requirements for TimeMoE \n",
    "!pip install -r ./Time-MoE/requirements.txt\n",
    "\n",
    "# Install requirements for all the others including Time-Series-Library, CMamba, etc.\n",
    "!pip install -r ./requirements.txt\n"
   ]
  },
  {
   "cell_type": "markdown",
   "metadata": {},
   "source": [
    "### Run test scripts (or, python run.py with proper arguments)"
   ]
  },
  {
   "cell_type": "code",
   "execution_count": null,
   "metadata": {},
   "outputs": [],
   "source": [
    "!sh ./tests/scripts/test_default.sh "
   ]
  }
 ],
 "metadata": {
  "kernelspec": {
   "display_name": "TSCookbook",
   "language": "python",
   "name": "tscookbook"
  },
  "language_info": {
   "codemirror_mode": {
    "name": "ipython",
    "version": 3
   },
   "file_extension": ".py",
   "mimetype": "text/x-python",
   "name": "python",
   "nbconvert_exporter": "python",
   "pygments_lexer": "ipython3",
   "version": "3.9.13"
  }
 },
 "nbformat": 4,
 "nbformat_minor": 2
}
